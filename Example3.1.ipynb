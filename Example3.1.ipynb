{
 "cells": [
  {
   "cell_type": "code",
   "execution_count": 1,
   "metadata": {},
   "outputs": [],
   "source": [
    "import tensorflow as tf"
   ]
  },
  {
   "cell_type": "code",
   "execution_count": 11,
   "metadata": {},
   "outputs": [],
   "source": [
    "#Create graph A\n",
    "a = tf.constant(1)\n",
    "b = tf.constant(2)\n",
    "\n",
    "c = tf.multiply(a, b)\n",
    "d = tf.add(a, b)\n",
    "\n",
    "e = tf.subtract(d, c)\n",
    "f = tf.add(c, d)\n",
    "\n",
    "g = tf.divide(f, e)"
   ]
  },
  {
   "cell_type": "code",
   "execution_count": 12,
   "metadata": {},
   "outputs": [
    {
     "name": "stdout",
     "output_type": "stream",
     "text": [
      "outs = [1, 2, 2, 3, 1, 5, 5.0]\n"
     ]
    }
   ],
   "source": [
    "with tf.Session() as sess:\n",
    "    fetches = [a, b, c, d, e, f, g]\n",
    "    outs = sess.run(fetches)\n",
    "    \n",
    "print(\"outs = {}\".format(outs))"
   ]
  },
  {
   "cell_type": "code",
   "execution_count": 13,
   "metadata": {},
   "outputs": [],
   "source": [
    "#Create graph B\n",
    "a = tf.constant(5.5)\n",
    "b = tf.constant(10.5)\n",
    "c = tf.multiply(a, b)\n",
    "d = tf.sin(c)\n",
    "e = tf.divide(b, d)"
   ]
  },
  {
   "cell_type": "code",
   "execution_count": 14,
   "metadata": {},
   "outputs": [
    {
     "name": "stdout",
     "output_type": "stream",
     "text": [
      "11.2598\n"
     ]
    }
   ],
   "source": [
    "with tf.Session() as sess:\n",
    "    ans = sess.run(e)\n",
    "    \n",
    "print(ans)"
   ]
  },
  {
   "cell_type": "code",
   "execution_count": null,
   "metadata": {},
   "outputs": [],
   "source": []
  }
 ],
 "metadata": {
  "kernelspec": {
   "display_name": "Python 3",
   "language": "python",
   "name": "python3"
  },
  "language_info": {
   "codemirror_mode": {
    "name": "ipython",
    "version": 3
   },
   "file_extension": ".py",
   "mimetype": "text/x-python",
   "name": "python",
   "nbconvert_exporter": "python",
   "pygments_lexer": "ipython3",
   "version": "3.7.3"
  }
 },
 "nbformat": 4,
 "nbformat_minor": 2
}
