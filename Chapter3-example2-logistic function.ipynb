{
 "cells": [
  {
   "cell_type": "code",
   "execution_count": 2,
   "metadata": {},
   "outputs": [],
   "source": [
    "import numpy as np\n",
    "\n",
    "N = 20000\n",
    "\n",
    "def sigmoid(x):\n",
    "    return 1 / (1 + np.exp(-x))\n",
    "\n",
    "#create data and simulate results\n",
    "x_data = np.random.randn(N, 3)\n",
    "w_real = [0.3, 0.5, 0.1]\n",
    "b_real = -0.2\n",
    "wxb = np.matmul(w_real, x_data.T) + b_real\n",
    "\n",
    "y_data_pre_noise = sigmoid(wxb)\n",
    "y_data = np.random.binomial(1, y_data_pre_noise)"
   ]
  },
  {
   "cell_type": "code",
   "execution_count": 5,
   "metadata": {},
   "outputs": [
    {
     "name": "stdout",
     "output_type": "stream",
     "text": [
      "0 [array([[0.03740176, 0.05624942, 0.00919869]], dtype=float32), -0.022274988]\n",
      "5 [array([[0.16494696, 0.24939987, 0.04097066]], dtype=float32), -0.09858333]\n",
      "10 [array([[0.23259635, 0.3530609 , 0.058162  ]], dtype=float32), -0.13931556]\n",
      "15 [array([[0.27014396, 0.41118863, 0.06785051]], dtype=float32), -0.16200735]\n",
      "20 [array([[0.291624  , 0.44473815, 0.07345989]], dtype=float32), -0.17501536]\n",
      "25 [array([[0.30413923, 0.4644375 , 0.07676033]], dtype=float32), -0.1826029]\n",
      "30 [array([[0.31151173, 0.47612175, 0.07872071]], dtype=float32), -0.18707538]\n",
      "35 [array([[0.31588382, 0.48309302, 0.0798916 ]], dtype=float32), -0.1897286]\n",
      "40 [array([[0.3184872 , 0.48726678, 0.08059321]], dtype=float32), -0.19130884]\n",
      "45 [array([[0.32004136, 0.48977068, 0.08101439]], dtype=float32), -0.19225235]\n",
      "50 [array([[0.32082093, 0.49103174, 0.08122663]], dtype=float32), -0.19272566]\n"
     ]
    }
   ],
   "source": [
    "import tensorflow as tf\n",
    "\n",
    "NUM_STEPS = 50\n",
    "\n",
    "g = tf.Graph()\n",
    "wb_ = []\n",
    "\n",
    "with g.as_default():\n",
    "    x = tf.placeholder(tf.float32, shape = [None, 3])\n",
    "    y_true = tf.placeholder(tf.float32, shape = None)\n",
    "    \n",
    "    with tf.name_scope('inference') as scope:\n",
    "        w = tf.Variable([[0, 0, 0]], dtype = tf.float32, name = 'weights')\n",
    "        b = tf.Variable(0, dtype = tf.float32, name = 'bias')\n",
    "        y_pred = tf.matmul(w, tf.transpose(x)) + b\n",
    "        \n",
    "    with tf.name_scope('loss') as scope:\n",
    "        loss = tf.nn.sigmoid_cross_entropy_with_logits(labels = y_true, logits = y_pred)\n",
    "        loss = tf.reduce_mean(loss)\n",
    "        \n",
    "    with tf.name_scope('train') as scope:\n",
    "        learning_rate = 0.5\n",
    "        optimizer = tf.train.GradientDescentOptimizer(learning_rate)\n",
    "        train = optimizer.minimize(loss)\n",
    "        \n",
    "    init = tf.global_variables_initializer()\n",
    "    with tf.Session() as sess:\n",
    "        sess.run(init)\n",
    "        for step in range(NUM_STEPS):\n",
    "            sess.run(train, {x: x_data, y_true: y_data})\n",
    "            if (step % 5 == 0):\n",
    "                print(step, sess.run([w, b]))\n",
    "                wb_.append(sess.run([w, b]))\n",
    "                \n",
    "        print(50, sess.run([w, b]))\n",
    "        "
   ]
  },
  {
   "cell_type": "code",
   "execution_count": null,
   "metadata": {},
   "outputs": [],
   "source": []
  }
 ],
 "metadata": {
  "kernelspec": {
   "display_name": "Python 3",
   "language": "python",
   "name": "python3"
  },
  "language_info": {
   "codemirror_mode": {
    "name": "ipython",
    "version": 3
   },
   "file_extension": ".py",
   "mimetype": "text/x-python",
   "name": "python",
   "nbconvert_exporter": "python",
   "pygments_lexer": "ipython3",
   "version": "3.7.3"
  }
 },
 "nbformat": 4,
 "nbformat_minor": 2
}
